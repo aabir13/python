{
 "cells": [
  {
   "cell_type": "code",
   "execution_count": 1,
   "id": "variable-rally",
   "metadata": {},
   "outputs": [],
   "source": [
    "import numpy as np"
   ]
  },
  {
   "cell_type": "code",
   "execution_count": 2,
   "id": "proper-magnitude",
   "metadata": {},
   "outputs": [
    {
     "name": "stdout",
     "output_type": "stream",
     "text": [
      "[1, 2, 3, 4]\n"
     ]
    }
   ],
   "source": [
    "a=[1,2,3,4] #list in python\n",
    "ar=np.array([1,2,3,4]) #array in python\n",
    "print(a)"
   ]
  },
  {
   "cell_type": "code",
   "execution_count": 3,
   "id": "minus-fence",
   "metadata": {},
   "outputs": [
    {
     "name": "stdout",
     "output_type": "stream",
     "text": [
      "<class 'list'>\n"
     ]
    }
   ],
   "source": [
    "print(type(a))"
   ]
  },
  {
   "cell_type": "code",
   "execution_count": 4,
   "id": "irish-quarter",
   "metadata": {},
   "outputs": [
    {
     "name": "stdout",
     "output_type": "stream",
     "text": [
      "<class 'numpy.ndarray'>\n"
     ]
    }
   ],
   "source": [
    "print(type(ar))"
   ]
  },
  {
   "cell_type": "code",
   "execution_count": 5,
   "id": "great-begin",
   "metadata": {},
   "outputs": [
    {
     "data": {
      "text/plain": [
       "(4,)"
      ]
     },
     "execution_count": 5,
     "metadata": {},
     "output_type": "execute_result"
    }
   ],
   "source": [
    "ar.shape #dimensions of the array"
   ]
  },
  {
   "cell_type": "code",
   "execution_count": 6,
   "id": "improved-rwanda",
   "metadata": {},
   "outputs": [
    {
     "name": "stdout",
     "output_type": "stream",
     "text": [
      "[[1 2 3 4]\n",
      " [5 6 7 8]]\n"
     ]
    }
   ],
   "source": [
    "arr=np.array([[1,2,3,4],[5,6,7,8]]) #2-dimensional array\n",
    "print(arr)"
   ]
  },
  {
   "cell_type": "code",
   "execution_count": 7,
   "id": "colonial-honey",
   "metadata": {},
   "outputs": [
    {
     "data": {
      "text/plain": [
       "(2, 4)"
      ]
     },
     "execution_count": 7,
     "metadata": {},
     "output_type": "execute_result"
    }
   ],
   "source": [
    "arr.shape"
   ]
  },
  {
   "cell_type": "code",
   "execution_count": 8,
   "id": "norwegian-tunisia",
   "metadata": {},
   "outputs": [
    {
     "data": {
      "text/plain": [
       "array([[1, 5],\n",
       "       [2, 6],\n",
       "       [3, 7],\n",
       "       [4, 8]])"
      ]
     },
     "execution_count": 8,
     "metadata": {},
     "output_type": "execute_result"
    }
   ],
   "source": [
    "arr.T #transpose of matrix"
   ]
  },
  {
   "cell_type": "code",
   "execution_count": 9,
   "id": "happy-figure",
   "metadata": {},
   "outputs": [
    {
     "data": {
      "text/plain": [
       "array([[ 30,  70],\n",
       "       [ 70, 174]])"
      ]
     },
     "execution_count": 9,
     "metadata": {},
     "output_type": "execute_result"
    }
   ],
   "source": [
    "np.dot(arr, arr.T) #dot product of two arrays"
   ]
  },
  {
   "cell_type": "code",
   "execution_count": 10,
   "id": "painted-qatar",
   "metadata": {},
   "outputs": [
    {
     "data": {
      "text/plain": [
       "array([69, 82, 80, 85, 98, 94, 96, 68, 63, 79])"
      ]
     },
     "execution_count": 10,
     "metadata": {},
     "output_type": "execute_result"
    }
   ],
   "source": [
    "np.random.randint(60,100,10) #displays 10 random numbers between 60 to 100"
   ]
  },
  {
   "cell_type": "code",
   "execution_count": 11,
   "id": "common-message",
   "metadata": {},
   "outputs": [
    {
     "data": {
      "text/plain": [
       "array([[94, 65, 84, 74, 61],\n",
       "       [72, 98, 88, 62, 96],\n",
       "       [83, 84, 95, 76, 99],\n",
       "       [83, 65, 76, 76, 71],\n",
       "       [90, 62, 78, 79, 85]])"
      ]
     },
     "execution_count": 11,
     "metadata": {},
     "output_type": "execute_result"
    }
   ],
   "source": [
    "np.random.randint(60,100,(5,5)) #displays a random matrix of shape 2X2 between 60 to 100"
   ]
  },
  {
   "cell_type": "code",
   "execution_count": 12,
   "id": "wooden-maple",
   "metadata": {},
   "outputs": [],
   "source": [
    "matrix = np.random.randint(1,10,(5,5))"
   ]
  },
  {
   "cell_type": "code",
   "execution_count": 13,
   "id": "architectural-antenna",
   "metadata": {},
   "outputs": [
    {
     "name": "stdout",
     "output_type": "stream",
     "text": [
      "[[4 3 6 3 9]\n",
      " [7 3 6 9 4]\n",
      " [3 6 3 8 3]\n",
      " [4 8 7 7 4]\n",
      " [4 3 7 2 7]]\n"
     ]
    }
   ],
   "source": [
    "print(matrix)"
   ]
  },
  {
   "cell_type": "code",
   "execution_count": 14,
   "id": "median-confusion",
   "metadata": {},
   "outputs": [
    {
     "data": {
      "text/plain": [
       "2"
      ]
     },
     "execution_count": 14,
     "metadata": {},
     "output_type": "execute_result"
    }
   ],
   "source": [
    "np.min(matrix)"
   ]
  },
  {
   "cell_type": "code",
   "execution_count": 15,
   "id": "unsigned-configuration",
   "metadata": {},
   "outputs": [
    {
     "data": {
      "text/plain": [
       "9"
      ]
     },
     "execution_count": 15,
     "metadata": {},
     "output_type": "execute_result"
    }
   ],
   "source": [
    "np.max(matrix)"
   ]
  },
  {
   "cell_type": "code",
   "execution_count": 16,
   "id": "monetary-jungle",
   "metadata": {},
   "outputs": [
    {
     "name": "stdout",
     "output_type": "stream",
     "text": [
      "[8 8 4 8 1 1 0 7]\n"
     ]
    }
   ],
   "source": [
    "b=np.random.randint(0,9,8)\n",
    "print(b)"
   ]
  },
  {
   "cell_type": "code",
   "execution_count": 17,
   "id": "piano-breathing",
   "metadata": {},
   "outputs": [
    {
     "data": {
      "text/plain": [
       "6"
      ]
     },
     "execution_count": 17,
     "metadata": {},
     "output_type": "execute_result"
    }
   ],
   "source": [
    "b.argmin() #returns the index of the minimum element"
   ]
  },
  {
   "cell_type": "code",
   "execution_count": 18,
   "id": "enormous-chair",
   "metadata": {},
   "outputs": [
    {
     "data": {
      "text/plain": [
       "array([0, 1, 4, 7, 8])"
      ]
     },
     "execution_count": 18,
     "metadata": {},
     "output_type": "execute_result"
    }
   ],
   "source": [
    "np.unique(b) #unique elements in the matrix"
   ]
  },
  {
   "cell_type": "code",
   "execution_count": 20,
   "id": "designing-peoples",
   "metadata": {},
   "outputs": [
    {
     "name": "stdout",
     "output_type": "stream",
     "text": [
      "(array([0, 1, 4, 7, 8]), array([1, 2, 1, 1, 3]))\n"
     ]
    }
   ],
   "source": [
    "x=np.unique(b,return_counts=True) #returns the count of the number of elements\n",
    "print(x)"
   ]
  },
  {
   "cell_type": "code",
   "execution_count": 21,
   "id": "infrared-colony",
   "metadata": {},
   "outputs": [
    {
     "name": "stdout",
     "output_type": "stream",
     "text": [
      "8\n"
     ]
    }
   ],
   "source": [
    "#code to print the element with the highest frequency\n",
    "idx = np.argmax(x[1])\n",
    "element = x[0][idx]\n",
    "print(element)"
   ]
  },
  {
   "cell_type": "code",
   "execution_count": 22,
   "id": "necessary-entertainment",
   "metadata": {},
   "outputs": [
    {
     "data": {
      "text/plain": [
       "array([[4, 3, 6, 3, 9],\n",
       "       [7, 3, 6, 9, 4],\n",
       "       [3, 6, 3, 8, 3],\n",
       "       [4, 8, 7, 7, 4],\n",
       "       [4, 3, 7, 2, 7]])"
      ]
     },
     "execution_count": 22,
     "metadata": {},
     "output_type": "execute_result"
    }
   ],
   "source": [
    "#slicing of arrays\n",
    "matrix"
   ]
  },
  {
   "cell_type": "code",
   "execution_count": 23,
   "id": "instrumental-handling",
   "metadata": {},
   "outputs": [
    {
     "data": {
      "text/plain": [
       "array([[6, 3, 8],\n",
       "       [8, 7, 7]])"
      ]
     },
     "execution_count": 23,
     "metadata": {},
     "output_type": "execute_result"
    }
   ],
   "source": [
    "matrix[2:4,1:4] #slicing to obtain a certain set of rows and columns"
   ]
  },
  {
   "cell_type": "code",
   "execution_count": 24,
   "id": "southern-techno",
   "metadata": {},
   "outputs": [
    {
     "data": {
      "text/plain": [
       "4"
      ]
     },
     "execution_count": 24,
     "metadata": {},
     "output_type": "execute_result"
    }
   ],
   "source": [
    "matrix[3][4] #extracting an element from the matrix"
   ]
  },
  {
   "cell_type": "code",
   "execution_count": null,
   "id": "wrapped-helping",
   "metadata": {},
   "outputs": [],
   "source": []
  }
 ],
 "metadata": {
  "kernelspec": {
   "display_name": "Python 3",
   "language": "python",
   "name": "python3"
  },
  "language_info": {
   "codemirror_mode": {
    "name": "ipython",
    "version": 3
   },
   "file_extension": ".py",
   "mimetype": "text/x-python",
   "name": "python",
   "nbconvert_exporter": "python",
   "pygments_lexer": "ipython3",
   "version": "3.8.8"
  }
 },
 "nbformat": 4,
 "nbformat_minor": 5
}
